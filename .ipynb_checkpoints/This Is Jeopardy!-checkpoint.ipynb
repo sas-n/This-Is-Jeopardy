{
 "cells": [
  {
   "cell_type": "markdown",
   "id": "d19c8b09",
   "metadata": {},
   "source": [
    "# This Is Jeopardy!\n",
    "\n",
    "This is a project provided by [Codecademy](http://codecademy.com) in the Data Science track. \n",
    "\n",
    "Below, you will find the following:\n",
    "\n",
    "- Basic exercises for the Pandas library in Python, i.e., mainly data frame manipulation and simple data exploration.\n",
    "- Custom functions for finding trends in a data set and visualizing them.\n",
    "- A simple text-based game in which you can play a modified version of Jeopardy! yourself, using the questions and answers in the database."
   ]
  },
  {
   "cell_type": "markdown",
   "id": "6c65dbd8",
   "metadata": {},
   "source": [
    "![Jeopardy Image](1599px-Jeopardy!_game_board_US.svg.png \"Jeopardy Image\")\n",
    "\n",
    "Image Credit: [Wikipedia Creative Commons](https://commons.wikimedia.org/wiki/File:Jeopardy!_game_board_US.svg)"
   ]
  },
  {
   "cell_type": "markdown",
   "id": "d268015d",
   "metadata": {},
   "source": [
    "## Project Goals\n",
    "\n",
    "You will work to write several functions that investigate a dataset of Jeopardy! questions and answers. Filter the dataset for topics that you’re interested in, compute the average difficulty of those questions, and train to become the next Jeopardy champion!\n",
    "\n",
    "### Exercise 1\n",
    "\n",
    "We’ve provided a csv file containing data about the game show Jeopardy! in a file named `jeopardy.csv`. Load the data into a DataFrame and investigate its contents. Try to print out specific columns.\n",
    "\n",
    "Note that in order to make this project as “real-world” as possible, we haven’t modified the data at all — we’re giving it to you exactly how we found it. As a result, this data isn’t as “clean” as the datasets you normally find on Codecademy. More specifically, there’s something odd about the column names. After you figure out the problem with the column names, you may want to rename them to make your life easier the rest of the project."
   ]
  },
  {
   "cell_type": "code",
   "execution_count": 2,
   "id": "80143ec5",
   "metadata": {},
   "outputs": [
    {
     "data": {
      "text/html": [
       "<div>\n",
       "<style scoped>\n",
       "    .dataframe tbody tr th:only-of-type {\n",
       "        vertical-align: middle;\n",
       "    }\n",
       "\n",
       "    .dataframe tbody tr th {\n",
       "        vertical-align: top;\n",
       "    }\n",
       "\n",
       "    .dataframe thead th {\n",
       "        text-align: right;\n",
       "    }\n",
       "</style>\n",
       "<table border=\"1\" class=\"dataframe\">\n",
       "  <thead>\n",
       "    <tr style=\"text-align: right;\">\n",
       "      <th></th>\n",
       "      <th>Show Number</th>\n",
       "      <th>Air Date</th>\n",
       "      <th>Round</th>\n",
       "      <th>Category</th>\n",
       "      <th>Value</th>\n",
       "      <th>Question</th>\n",
       "      <th>Answer</th>\n",
       "    </tr>\n",
       "  </thead>\n",
       "  <tbody>\n",
       "    <tr>\n",
       "      <th>0</th>\n",
       "      <td>4680</td>\n",
       "      <td>2004-12-31</td>\n",
       "      <td>Jeopardy!</td>\n",
       "      <td>HISTORY</td>\n",
       "      <td>$200</td>\n",
       "      <td>For the last 8 years of his life, Galileo was under house arrest for espousing this man's theory</td>\n",
       "      <td>Copernicus</td>\n",
       "    </tr>\n",
       "    <tr>\n",
       "      <th>1</th>\n",
       "      <td>4680</td>\n",
       "      <td>2004-12-31</td>\n",
       "      <td>Jeopardy!</td>\n",
       "      <td>ESPN's TOP 10 ALL-TIME ATHLETES</td>\n",
       "      <td>$200</td>\n",
       "      <td>No. 2: 1912 Olympian; football star at Carlisle Indian School; 6 MLB seasons with the Reds, Giants &amp; Braves</td>\n",
       "      <td>Jim Thorpe</td>\n",
       "    </tr>\n",
       "    <tr>\n",
       "      <th>2</th>\n",
       "      <td>4680</td>\n",
       "      <td>2004-12-31</td>\n",
       "      <td>Jeopardy!</td>\n",
       "      <td>EVERYBODY TALKS ABOUT IT...</td>\n",
       "      <td>$200</td>\n",
       "      <td>The city of Yuma in this state has a record average of 4,055 hours of sunshine each year</td>\n",
       "      <td>Arizona</td>\n",
       "    </tr>\n",
       "    <tr>\n",
       "      <th>3</th>\n",
       "      <td>4680</td>\n",
       "      <td>2004-12-31</td>\n",
       "      <td>Jeopardy!</td>\n",
       "      <td>THE COMPANY LINE</td>\n",
       "      <td>$200</td>\n",
       "      <td>In 1963, live on \"The Art Linkletter Show\", this company served its billionth burger</td>\n",
       "      <td>McDonald's</td>\n",
       "    </tr>\n",
       "    <tr>\n",
       "      <th>4</th>\n",
       "      <td>4680</td>\n",
       "      <td>2004-12-31</td>\n",
       "      <td>Jeopardy!</td>\n",
       "      <td>EPITAPHS &amp; TRIBUTES</td>\n",
       "      <td>$200</td>\n",
       "      <td>Signer of the Dec. of Indep., framer of the Constitution of Mass., second President of the United States</td>\n",
       "      <td>John Adams</td>\n",
       "    </tr>\n",
       "  </tbody>\n",
       "</table>\n",
       "</div>"
      ],
      "text/plain": [
       "   Show Number    Air Date      Round                         Category  Value  \\\n",
       "0         4680  2004-12-31  Jeopardy!                          HISTORY   $200   \n",
       "1         4680  2004-12-31  Jeopardy!  ESPN's TOP 10 ALL-TIME ATHLETES   $200   \n",
       "2         4680  2004-12-31  Jeopardy!      EVERYBODY TALKS ABOUT IT...   $200   \n",
       "3         4680  2004-12-31  Jeopardy!                 THE COMPANY LINE   $200   \n",
       "4         4680  2004-12-31  Jeopardy!              EPITAPHS & TRIBUTES   $200   \n",
       "\n",
       "                                                                                                      Question  \\\n",
       "0             For the last 8 years of his life, Galileo was under house arrest for espousing this man's theory   \n",
       "1  No. 2: 1912 Olympian; football star at Carlisle Indian School; 6 MLB seasons with the Reds, Giants & Braves   \n",
       "2                     The city of Yuma in this state has a record average of 4,055 hours of sunshine each year   \n",
       "3                         In 1963, live on \"The Art Linkletter Show\", this company served its billionth burger   \n",
       "4     Signer of the Dec. of Indep., framer of the Constitution of Mass., second President of the United States   \n",
       "\n",
       "       Answer  \n",
       "0  Copernicus  \n",
       "1  Jim Thorpe  \n",
       "2     Arizona  \n",
       "3  McDonald's  \n",
       "4  John Adams  "
      ]
     },
     "execution_count": 2,
     "metadata": {},
     "output_type": "execute_result"
    }
   ],
   "source": [
    "import pandas as pd\n",
    "import numpy as np\n",
    "import matplotlib.pyplot as plt\n",
    "\n",
    "pd.set_option('display.max_colwidth', None)\n",
    "\n",
    "df = pd.read_csv(\"jeopardy.csv\")\n",
    "df.head()"
   ]
  },
  {
   "cell_type": "code",
   "execution_count": 3,
   "id": "50b72153",
   "metadata": {},
   "outputs": [
    {
     "name": "stdout",
     "output_type": "stream",
     "text": [
      "This data frame has 216930 rows.\n",
      "\n",
      "The rounds in this data set are: ['Jeopardy!' 'Double Jeopardy!' 'Final Jeopardy!' 'Tiebreaker'].\n",
      "\n",
      "The categories in this data set are: ['HISTORY' \"ESPN's TOP 10 ALL-TIME ATHLETES\" 'EVERYBODY TALKS ABOUT IT...'\n",
      " ... 'OFF-BROADWAY' 'RIDDLE ME THIS' 'AUTHORS IN THEIR YOUTH'].\n",
      "\n",
      "The mean value of a question is $752.6.\n",
      "\n",
      "These data range from 1984 to 2012. \n",
      "\n"
     ]
    }
   ],
   "source": [
    "# Fixing whitespace in column names\n",
    "\n",
    "df = df.rename(columns=lambda x: x.strip())\n",
    "\n",
    "# Some data exploration\n",
    "\n",
    "print(f\"This data frame has {len(df)} rows.\\n\")\n",
    "print(f\"The rounds in this data set are: {df.Round.unique()}.\\n\")\n",
    "print(f\"The categories in this data set are: {df.Category.unique()}.\\n\")\n",
    "\n",
    "# Convert Value column to number for further calculations. \n",
    "    # Added string conversion in first step to avoid an AttributeError.\n",
    "df[\"Value\"] = df.Value.apply(lambda row: np.nan if row == \"None\" \n",
    "                             else float(str(row).replace(\",\", \"\").replace(\"$\", \"\")))\n",
    "\n",
    "print(f\"The mean value of a question is ${df.Value.mean().round(2)}.\\n\")\n",
    "\n",
    "# Altering data frame to enable analysis of time by extracting the year as an int and adding a decade variable\n",
    "\n",
    "df[\"year\"] = df[\"Air Date\"].apply(lambda row: int(row[:4]))\n",
    "df[\"decade\"] = df[\"year\"].apply(lambda row: \"1980s\" if row < 1990 and row > 1979\n",
    "                                else (\"1990s\" if row > 1989 and row < 2000 \n",
    "                                      else (\"2000s\" if row > 1999 and row < 2010 \n",
    "                                            else (\"2010s\" if row > 2009 and row < 2020 else np.nan))))\n",
    "\n",
    "print(f\"These data range from {df.year.min()} to {df.year.max()}. \\n\")"
   ]
  },
  {
   "cell_type": "markdown",
   "id": "b8a58eca",
   "metadata": {},
   "source": [
    "### Exercise 2\n",
    "\n",
    "Write a function that filters the dataset for questions that contains all of the words in a list of words. For example, when the list `[\"King\", \"England\"]` was passed to our function, the function returned a DataFrame of 152 rows. Every row had the strings `\"King\"` and `\"England\"` somewhere in its `\" Question\"`.\n",
    "\n",
    "Note that in this example, we found 152 rows by filtering the entire dataset. You can download the entire dataset at the start or end of this project. The dataset used on Codecademy is only a fraction of the dataset so you won’t find as many rows.\n",
    "\n",
    "Test your function by printing out the column containing the question of each row of the dataset."
   ]
  },
  {
   "cell_type": "code",
   "execution_count": 4,
   "id": "a363ff5c",
   "metadata": {},
   "outputs": [
    {
     "name": "stdout",
     "output_type": "stream",
     "text": [
      "152\n"
     ]
    }
   ],
   "source": [
    "# Simple function. Enhanced version can be found below (exercise 3). \n",
    "\n",
    "def filter_data(data, words): \n",
    "    filter = lambda x: all(word.lower() in x.lower() for word in words)\n",
    "    return data.loc[data[\"Question\"].apply(filter)]\n",
    "\n",
    "new_df = filter_data(df, [\"King\", \"England\"])\n",
    "print(len(new_df))"
   ]
  },
  {
   "cell_type": "markdown",
   "id": "9a3ec66d",
   "metadata": {},
   "source": [
    "### Exercise 3\n",
    "\n",
    "Test your original function with a few different sets of words to try to find some ways your function breaks. Edit your function so it is more robust.\n",
    "\n",
    "For example, think about capitalization. We probably want to find questions that contain the word `\"King\"` or `\"king\"`.\n",
    "\n",
    "You may also want to check to make sure you don’t find rows that contain substrings of your given words. For example, our function found a question that didn’t contain the word \"king\", however it did contain the word `\"viking\"` — it found the `\"king\"` inside `\"viking\"`. Note that this also comes with some drawbacks — you would no longer find questions that contained words like `\"England's\"`."
   ]
  },
  {
   "cell_type": "code",
   "execution_count": 5,
   "id": "c775df49",
   "metadata": {},
   "outputs": [],
   "source": [
    "# Capitalization was taken care of in original function. \n",
    "# Added spaces around words in keyword list passed to function to detect only 'whole' words.\n",
    "# Another way to break the function is to pass something other than a list; added converstion.\n",
    "    # This is necessary to use the function in other functions, e.g. in exercise 4.\n",
    "\n",
    "def enhanced_filter(data, words):\n",
    "    if type(words) != list:\n",
    "        words = [str(words)]\n",
    "    spaced_words = [\" \" + word + \" \" for word in words] # limiting hits to standalone target words only\n",
    "    filter = lambda x: all(word.lower() in x.lower() for word in spaced_words)\n",
    "    return data.loc[data[\"Question\"].apply(filter)]"
   ]
  },
  {
   "cell_type": "markdown",
   "id": "363de3fa",
   "metadata": {},
   "source": [
    "### Exercise 4\n",
    "\n",
    "We may want to eventually compute aggregate statistics, like `.mean()` on the `\" Value\"` column. But right now, the values in that column are strings. Convert the `\" Value\"` column to floats. If you’d like to, you can create a new column with the float values.\n",
    "\n",
    "Now that you can filter the dataset of question, use your new column that contains the float values of each question to find the “difficulty” of certain topics. For example, what is the average value of questions that contain the word `\"King\"`?\n",
    "\n",
    "Make sure to use the dataset that contains the float values as the dataset you use in your filtering function."
   ]
  },
  {
   "cell_type": "code",
   "execution_count": 6,
   "id": "bdaddfe5",
   "metadata": {},
   "outputs": [
    {
     "data": {
      "text/plain": [
       "821.2250712250712"
      ]
     },
     "execution_count": 6,
     "metadata": {},
     "output_type": "execute_result"
    }
   ],
   "source": [
    "# Value column was already modified above.\n",
    "\n",
    "def find_avg_value(data, word):   \n",
    "    filtered_df = enhanced_filter(data, word)\n",
    "    return filtered_df.Value.mean()\n",
    "\n",
    "find_avg_value(df, \"King\")"
   ]
  },
  {
   "cell_type": "markdown",
   "id": "7cf8268b",
   "metadata": {},
   "source": [
    "### Exercise 5\n",
    "\n",
    "Write a function that returns the count of the unique answers to all of the questions in a dataset. For example, after filtering the entire dataset to only questions containing the word `\"King\"`, we could then find all of the unique answers to those questions. The answer “Henry VIII” appeared 3 times and was the most common answer."
   ]
  },
  {
   "cell_type": "code",
   "execution_count": 7,
   "id": "5ab4d0b1",
   "metadata": {},
   "outputs": [
    {
     "name": "stdout",
     "output_type": "stream",
     "text": [
      "Henry VIII                           31\n",
      "Richard III                          20\n",
      "Sweden                               18\n",
      "Norway                               18\n",
      "Solomon                              17\n",
      "                                     ..\n",
      "Bad, Bad Leroy Brown                  1\n",
      "Elephants                             1\n",
      "Deborah Kerr                          1\n",
      "Ruritania                             1\n",
      "a pyramid (the pyramids accepted)     1\n",
      "Name: Answer, Length: 1040, dtype: int64\n",
      "China                             216\n",
      "Australia                         215\n",
      "Japan                             196\n",
      "Chicago                           194\n",
      "France                            193\n",
      "                                 ... \n",
      "the barre (or bar)                  1\n",
      "grams                               1\n",
      "the Hopis                           1\n",
      "free parking                        1\n",
      "Grigori Alexandrovich Potemkin      1\n",
      "Name: Answer, Length: 88268, dtype: int64\n"
     ]
    }
   ],
   "source": [
    "# If we want to find unique answers in a data set filtered by a certain specified keyword:\n",
    "\n",
    "def answer_counts_keyword(data, word):\n",
    "    filtered_data = enhanced_filter(data, word)\n",
    "    return filtered_data[\"Answer\"].value_counts()\n",
    "\n",
    "# Plain function (one could still pass a pre-filtered data frame as an argument):\n",
    "\n",
    "def answer_counts(data):\n",
    "    return data[\"Answer\"].value_counts()\n",
    "    \n",
    "print(answer_counts_keyword(df, \"King\")) # Pass a data frame and a keyword\n",
    "print(answer_counts(df)) # Pass just a data frame"
   ]
  },
  {
   "cell_type": "markdown",
   "id": "8b1feddb",
   "metadata": {},
   "source": [
    "### Exercise 6\n",
    "\n",
    "Explore from here! This is an incredibly rich dataset, and there are so many interesting things to discover. There are a few columns that we haven’t even started looking at yet. Here are some ideas on ways to continue working with this data:\n",
    "\n",
    "- Investigate the ways in which questions change over time by filtering by the date. How many questions from the 90s use the word \"Computer\" compared to questions from the 2000s?\n",
    "- Is there a connection between the round and the category? Are you more likely to find certain categories, like \"Literature\" in Single Jeopardy or Double Jeopardy?\n",
    "- Build a system to quiz yourself. Grab random questions, and use the input function to get a response from the user. Check to see if that response was right or wrong. Note that you can’t do this on the Codecademy platform — to do this, download the data, and write and run the code on your own computer!"
   ]
  },
  {
   "cell_type": "markdown",
   "id": "8da2bcb5",
   "metadata": {},
   "source": [
    "---\n",
    "\n",
    "### 1. How do questions change over time?"
   ]
  },
  {
   "cell_type": "code",
   "execution_count": 8,
   "id": "803ef192",
   "metadata": {},
   "outputs": [
    {
     "name": "stdout",
     "output_type": "stream",
     "text": [
      "  decade  Computer\n",
      "0  1980s         4\n",
      "1  1990s        57\n",
      "2  2000s       167\n",
      "3  2010s        43\n"
     ]
    }
   ],
   "source": [
    "# Function that takes a keyword and returns a data frame showing how often a question came up, by decade\n",
    "\n",
    "def change_over_time(data, words):\n",
    "    filtered = enhanced_filter(data, words)\n",
    "    grouped = filtered.groupby([\"decade\"]).count()\n",
    "    return grouped[\"Question\"].reset_index().rename(columns = {\"Question\": words})\n",
    "\n",
    "print(change_over_time(df, \"Computer\"))"
   ]
  },
  {
   "cell_type": "markdown",
   "id": "3d81c744",
   "metadata": {},
   "source": [
    "It looks like the keyword `'computer'` was used most frequently in the 2000s. \n",
    "\n",
    "However, we know, for example, that the 1980s and 2010s don't span full decades (since our data ranged from 1984 until 2012). \n",
    "\n",
    "Additionally, we don't know whether our dataset contains full data from every decade, or that some decades may be better represented than others. So it is important to check whether the number of questions overall in each decade is roughly equal."
   ]
  },
  {
   "cell_type": "code",
   "execution_count": 9,
   "id": "82bb2591",
   "metadata": {},
   "outputs": [
    {
     "name": "stdout",
     "output_type": "stream",
     "text": [
      "decade\n",
      "1980s      8108\n",
      "1990s     56745\n",
      "2000s    123852\n",
      "2010s     28225\n",
      "Name: Question, dtype: int64\n",
      "year\n",
      "1984     1179\n",
      "1985      888\n",
      "1986     1409\n",
      "1987     1275\n",
      "1988     1290\n",
      "1989     2067\n",
      "1990     4337\n",
      "1991     1444\n",
      "1992     1885\n",
      "1993     2132\n",
      "1994     1136\n",
      "1995     1138\n",
      "1996     4891\n",
      "1997    13099\n",
      "1998    13143\n",
      "1999    13540\n",
      "2000    13439\n",
      "2001    12097\n",
      "2002     6859\n",
      "2003     9426\n",
      "2004    13190\n",
      "2005    13560\n",
      "2006    13726\n",
      "2007    13940\n",
      "2008    14036\n",
      "2009    13579\n",
      "2010    13756\n",
      "2011    13376\n",
      "2012     1093\n",
      "Name: Question, dtype: int64\n"
     ]
    }
   ],
   "source": [
    "print(df.groupby(\"decade\").Question.count())\n",
    "print(df.groupby(\"year\").Question.count())"
   ]
  },
  {
   "cell_type": "markdown",
   "id": "4759303d",
   "metadata": {},
   "source": [
    "As we suspected, the 1990s and 2000s contain more questions overall than the other decades. If we look at the data by year, we see that from 1997 onwards there is approximately the same amount of data every year (excluding 2002, 2003 and 2012). This uneven amount of questions per year is likely to bias any trend we observe in the data. \n",
    "\n",
    "A solution could be to investigate which *percentage* (or ratio) of the overall questions are about a certain topic; this would correct for the number of questions but yield numbers that are difficult to interpret."
   ]
  },
  {
   "cell_type": "code",
   "execution_count": 10,
   "id": "c2bc3ee2",
   "metadata": {},
   "outputs": [
    {
     "data": {
      "text/html": [
       "<div>\n",
       "<style scoped>\n",
       "    .dataframe tbody tr th:only-of-type {\n",
       "        vertical-align: middle;\n",
       "    }\n",
       "\n",
       "    .dataframe tbody tr th {\n",
       "        vertical-align: top;\n",
       "    }\n",
       "\n",
       "    .dataframe thead th {\n",
       "        text-align: right;\n",
       "    }\n",
       "</style>\n",
       "<table border=\"1\" class=\"dataframe\">\n",
       "  <thead>\n",
       "    <tr style=\"text-align: right;\">\n",
       "      <th></th>\n",
       "      <th>decade</th>\n",
       "      <th>Total Qs</th>\n",
       "      <th>Hits</th>\n",
       "      <th>Corrected Hits</th>\n",
       "    </tr>\n",
       "  </thead>\n",
       "  <tbody>\n",
       "    <tr>\n",
       "      <th>0</th>\n",
       "      <td>1980s</td>\n",
       "      <td>8108</td>\n",
       "      <td>4</td>\n",
       "      <td>0.049334</td>\n",
       "    </tr>\n",
       "    <tr>\n",
       "      <th>1</th>\n",
       "      <td>1990s</td>\n",
       "      <td>56745</td>\n",
       "      <td>57</td>\n",
       "      <td>0.100449</td>\n",
       "    </tr>\n",
       "    <tr>\n",
       "      <th>2</th>\n",
       "      <td>2000s</td>\n",
       "      <td>123852</td>\n",
       "      <td>167</td>\n",
       "      <td>0.134838</td>\n",
       "    </tr>\n",
       "    <tr>\n",
       "      <th>3</th>\n",
       "      <td>2010s</td>\n",
       "      <td>28225</td>\n",
       "      <td>43</td>\n",
       "      <td>0.152347</td>\n",
       "    </tr>\n",
       "  </tbody>\n",
       "</table>\n",
       "</div>"
      ],
      "text/plain": [
       "  decade  Total Qs  Hits  Corrected Hits\n",
       "0  1980s      8108     4        0.049334\n",
       "1  1990s     56745    57        0.100449\n",
       "2  2000s    123852   167        0.134838\n",
       "3  2010s     28225    43        0.152347"
      ]
     },
     "execution_count": 10,
     "metadata": {},
     "output_type": "execute_result"
    }
   ],
   "source": [
    "# Option 1: Calculate a ratio of hits to the total number of questions within a decade\n",
    "\n",
    "def corr_change_over_time(data, words):\n",
    "    uncor = change_over_time(data, words)\n",
    "    total_qs = data.groupby([\"decade\"]).Question.count().reset_index()\n",
    "    comb = total_qs.merge(uncor, how = \"left\").reset_index()\n",
    "    comb[\"ratio\"] = comb.apply(lambda row: row[words] / row[\"Question\"] * 100, axis=1)\n",
    "    return comb[[\"decade\", \"Question\", words, \"ratio\"]].rename(columns = {\"Question\": \"Total Qs\", words: \"Hits\", \"ratio\": \"Corrected Hits\"})\n",
    "\n",
    "corr_change_over_time(df, \"computer\")"
   ]
  },
  {
   "cell_type": "markdown",
   "id": "33a7f5b9",
   "metadata": {},
   "source": [
    "From this corrected analysis we can conclude that questions containing the word 'computer\" became more common every decade (up to .15% in the 2010s). This also shows why correction was important; raw data suggest a peak in the 2000s, but corrected data reveals that questions containing the keyword `'computer'` were in fact more common in the 2010s.\n",
    "\n",
    "Another possibility is to create random samples of equal size from each decade and investigate the number of occurences of the keyword in those randomly selected data samples. This is easier to interpret but introduces some (additional) sampling error. Moreover, keywords that exist in the total data set are more likely to be randomly selected in earlier decades (because the sample represents a larger portion of the total available data) than in later decades."
   ]
  },
  {
   "cell_type": "code",
   "execution_count": 11,
   "id": "524280fd",
   "metadata": {},
   "outputs": [
    {
     "name": "stdout",
     "output_type": "stream",
     "text": [
      "  decade  Uncorrected Hits  Corrected Hits  Total Qs\n",
      "0  1980s                 4               2      8108\n",
      "1  1990s                57               7     56745\n",
      "2  2000s               167               8    123852\n",
      "3  2010s                43               6     28225\n"
     ]
    }
   ],
   "source": [
    "# Option 2: Alter function to take a random sample of rows (n=7500) within each decade\n",
    "    # Returns a data frame with the corrected and uncorrected number of hits, as well as the total number of questions\n",
    "    # Since a random sample is taken, output can differ slighly upon repitition, due to sampling error\n",
    "\n",
    "def sample_change_over_time(data, words):\n",
    "    sampled = data.groupby([\"decade\"]).sample(n=4000)\n",
    "    filtered = enhanced_filter(sampled, words)\n",
    "    grouped = filtered.groupby([\"decade\"]).count()\n",
    "    uncor = change_over_time(data, words)\n",
    "    cor = grouped[\"Question\"].reset_index()\n",
    "    total_q = data.groupby([\"decade\"]).Question.count().reset_index().rename(columns = {\"Question\": \"Total Qs\"})\n",
    "    return uncor.merge(cor, how=\"left\").merge(total_q, how=\"left\").rename(columns = {words: \"Uncorrected Hits\", \"Question\": \"Corrected Hits\"})\n",
    "\n",
    "print(sample_change_over_time(df, \"computer\"))"
   ]
  },
  {
   "cell_type": "markdown",
   "id": "c5258d11",
   "metadata": {},
   "source": [
    "Finally, we can use any of functions to visualize change over time. This function defaults to displaying uncorrected hits, but can be set to use correction (either displaying the ratio of hits or using a random sample of questions) by passing the arguments \"ratio\" or \"sample\"."
   ]
  },
  {
   "cell_type": "code",
   "execution_count": 12,
   "id": "02603109",
   "metadata": {},
   "outputs": [
    {
     "name": "stdout",
     "output_type": "stream",
     "text": [
      " \n",
      "        Please provide a valid correction type ('ratio', 'sample' or 'none').         \n",
      "        If no type is specified, 'ratio' is used by default.\n",
      "        \n",
      "        'Ratio' will provide a ratio of the number of times a question contains the keyword, \n",
      "        as a percentage of the total number of questions from that decade.\n",
      "        \n",
      "        'Sample' will take a random sample (n=4000) within each decade and provide the number of questions \n",
      "        containing the keyword.\n",
      "        \n",
      "        'None' provides the number of times the keyword was found in a question in the total data set, by decade.\n",
      "        No correction for the number of questions is used. \n",
      "        \n"
     ]
    },
    {
     "data": {
      "text/plain": [
       "<AxesSubplot:xlabel='decade'>"
      ]
     },
     "execution_count": 12,
     "metadata": {},
     "output_type": "execute_result"
    },
    {
     "data": {
      "image/png": "[encoded data removed]",
      "text/plain": [
       "<Figure size 432x288 with 1 Axes>"
      ]
     },
     "metadata": {
      "needs_background": "light"
     },
     "output_type": "display_data"
    },
    {
     "data": {
      "image/png": "[encoded data removed]",
      "text/plain": [
       "<Figure size 432x288 with 1 Axes>"
      ]
     },
     "metadata": {
      "needs_background": "light"
     },
     "output_type": "display_data"
    }
   ],
   "source": [
    "def visualize_change(data, words, correction=\"ratio\"):\n",
    "    try:\n",
    "        if correction.lower() == \"ratio\":\n",
    "            occur = corr_change_over_time(data, words)\n",
    "        elif correction.lower() == \"sample\":\n",
    "            occur = sample_change_over_time(data, words)\n",
    "        elif correction.lower() == \"none\":\n",
    "            occur = change_over_time(data, words)\n",
    "        return occur.plot(x=\"decade\", y=\"Corrected Hits\", kind=\"bar\")\n",
    "    except UnboundLocalError:\n",
    "        print(\"\"\" \n",
    "        Please provide a valid correction type ('ratio', 'sample' or 'none').         \n",
    "        If no type is specified, 'ratio' is used by default.\n",
    "        \n",
    "        'Ratio' will provide a ratio of the number of times a question contains the keyword, \n",
    "        as a percentage of the total number of questions from that decade.\n",
    "        \n",
    "        'Sample' will take a random sample (n=4000) within each decade and provide the number of questions \n",
    "        containing the keyword.\n",
    "        \n",
    "        'None' provides the number of times the keyword was found in a question in the total data set, by decade.\n",
    "        No correction for the number of questions is used. \n",
    "        \"\"\")\n",
    "        \n",
    "visualize_change(df, \"computer\", \"cat\")\n",
    "visualize_change(df, \"computer\")\n",
    "visualize_change(df, \"computer\", \"sample\")"
   ]
  },
  {
   "cell_type": "markdown",
   "id": "7b5a3b25",
   "metadata": {},
   "source": [
    "---\n",
    "\n",
    "## Interactive Jeopardy!\n",
    "\n",
    "You can play a simple text-based 'Jeopardy!' game by running the code block below.\n",
    "\n",
    "This game uses the data from the data frame used above. \n",
    "\n",
    "*Disclaimer: I have never seen an episode of Jeopardy! in my life, so gameplay may differ from the actual game in various ways.*"
   ]
  },
  {
   "cell_type": "code",
   "execution_count": 17,
   "id": "df1874e7",
   "metadata": {},
   "outputs": [
    {
     "name": "stdout",
     "output_type": "stream",
     "text": [
      "Welcome to Jeopardy! \n",
      "\n",
      "\n",
      "1: CARTOON FEMALES\n",
      "2: METROPOLITAN SOBRIQUETS\n",
      "3: SCIENCE & TECHNOLOGY\n",
      "4: I WANT MY \"M-T-V\"\n",
      "5: TAKE A PILL\n",
      "6: BIBLICAL IMPERSONATORS\n",
      "\n",
      "Please choose the category you want by typing the number of the category of your choice: 1\n",
      "\n",
      "You have chosen: CARTOON FEMALES.\n",
      "\n",
      "The following values are available for this category: \n",
      "\n",
      "1: $100.0\n",
      "2: $200.0\n",
      "3: $300.0\n",
      "4: $400.0\n",
      "5: $500.0\n",
      "6: $600.0\n",
      "7: $800.0\n",
      "8: $1000.0\n",
      "\n",
      " Please enter the number of the sum you'd like to play for: 1\n",
      "\n",
      " You have chosen: $100.0.\n",
      "\n",
      "Your question is: 'Mae Questel was the voice of 2 classic characters: Betty Boop & this girlfriend of Popeye'\n",
      "\n",
      "Please enter your answer: Olive Oyl\n",
      "\n",
      "\n",
      "Congratulations! That was correct!\n",
      "\n",
      "You have won $100.0, bringing your total winnings to $100.0.\n",
      "\n",
      "Would you like to play another round? Type 'yes' or 'no': \n",
      "yes\n",
      "\n",
      "Here's another round!\n",
      "1: IF I HAD A HAMMER...\n",
      "2: SPELLING \"B\"\n",
      "3: BONING UP\n",
      "4: PRAISE THE \"LORD\"\n",
      "5: BELLY UP TO THE BAROQUE\n",
      "6: COMEDIANS\n",
      "\n",
      "Please choose the category you want by typing the number of the category of your choice: 6\n",
      "\n",
      "You have chosen: COMEDIANS.\n",
      "\n",
      "The following values are available for this category: \n",
      "\n",
      "1: $100.0\n",
      "2: $200.0\n",
      "3: $300.0\n",
      "4: $400.0\n",
      "5: $500.0\n",
      "\n",
      " Please enter the number of the sum you'd like to play for: 1\n",
      "\n",
      " You have chosen: $100.0.\n",
      "\n",
      "Your question is: 'His teaming with Dean Martin lasted 10 years - 1946 to 1956'\n",
      "\n",
      "Please enter your answer: Jerry Lewis\n",
      "\n",
      "\n",
      "Congratulations! That was correct!\n",
      "\n",
      "You have won $100.0, bringing your total winnings to $200.0.\n",
      "\n",
      "Would you like to play another round? Type 'yes' or 'no': \n",
      "no\n",
      "\n",
      "Your total winnings are: $200.0.\n",
      "\n",
      "Thank you for playing Jeopardy, and see you next time!\n"
     ]
    }
   ],
   "source": [
    "class Game:\n",
    "    \n",
    "    def __init__(self):\n",
    "        self.prize = 0\n",
    "        self.categories = [category for category in np.random.choice(df.Category.unique(), size = 6)]\n",
    "        self.another_round = \"yes\"\n",
    "        print(\"Welcome to Jeopardy! \\n\\n\")\n",
    "        \n",
    "        # Creating variables that will be assigned values later\n",
    "        # Used for storing information so that functions are more self-contained/modular\n",
    "        self.selected_category = None\n",
    "        self.category_df = None\n",
    "        self.question = None\n",
    "        self.correct_answer = None\n",
    "        self.selected_sum = None\n",
    "        self.answer_given = None\n",
    "        self.match = False\n",
    "        \n",
    "    def select_categories(self):\n",
    "        return df[(df.Value.notna()) & (df[\"Category\"].isin(self.categories))]\n",
    "    \n",
    "    def choose_category(self):\n",
    "        \"\"\"Lets users choose from the six categories and returns a data frame of values and questions\n",
    "        belonging to the chosen category.\"\"\"\n",
    "        \n",
    "        data = self.select_categories()\n",
    "        options = [str(index + 1) + \": \" + str(category) for index, category in enumerate(self.categories)]\n",
    "        for option in options:\n",
    "            print(option)\n",
    "        try: \n",
    "            number = int(input(\"\\nPlease choose the category you want by typing the number of the category of your choice: \"))\n",
    "        except ValueError:\n",
    "            print(\"\\n Please enter a number (e.g.: 1 or 2)\")\n",
    "            number = int(input(\"\\nPlease choose the category you want by typing the number of the category of your choice: \"))\n",
    "        self.selected_category = self.categories[number - 1]\n",
    "        print(\"\\nYou have chosen: \" + self.selected_category + \".\\n\")\n",
    "        self.category_df = data[data[\"Category\"] == self.categories[number - 1]]\n",
    "        \n",
    "    def choose_question(self):\n",
    "        \"\"\"Lets users choose a value they'd like to play for.\n",
    "        Returns a question belonging to the category and value of choice.\"\"\"\n",
    "        \n",
    "        values = self.category_df.drop_duplicates(subset=[\"Value\"]).sort_values(by=[\"Value\"])\n",
    "        money = [value for value in values[\"Value\"]]\n",
    "        print(\"The following values are available for this category: \\n\")\n",
    "        money_options = [str(index+1) + \": $\" + str(value) for index, value in enumerate(values[\"Value\"])]\n",
    "        for sum_of_money in money_options:\n",
    "            print(sum_of_money)\n",
    "        try:\n",
    "            index_value_chosen = int(input(\"\\n Please enter the number of the sum you'd like to play for: \"))\n",
    "            if index_value_chosen > len(money_options):\n",
    "                print(\"\\nMake sure to enter the NUMBER of the sum and not the sum itself!\\n\")\n",
    "                index_value_chosen = int(input(\"\\n Please enter the number of the sum you'd like to play for: \"))\n",
    "        except ValueError:\n",
    "            print(\"\\nPlease make sure to enter a valid number (e.g.: 1 or 2). \\n\")\n",
    "            index_value_chosen = int(input(\"\\n Please enter the number of the sum you'd like to play for: \"))\n",
    "        self.selected_sum = money[index_value_chosen - 1]\n",
    "        print(\"\\n You have chosen: $\" + str(self.selected_sum) + \".\\n\")\n",
    "        self.question = values[values[\"Value\"] == self.selected_sum].Question.values\n",
    "        self.correct_answer = values[values[\"Value\"] == self.selected_sum].Answer.values\n",
    "    \n",
    "    def answer_question_check_match(self):\n",
    "        \"\"\"Presents the selected question to the player, lets them answer the question,\n",
    "        and returns whether the answer given by the player is correct.\n",
    "        It also returns the sum that was played for, so it can be used in further functions.\"\"\"\n",
    "        \n",
    "        print(\"Your question is: '\" + self.question[0] + \"'\")\n",
    "        \n",
    "#         Uncomment the line below if you want to see the correct answer for testing purposes:\n",
    "#         print(correct_answer) \n",
    "\n",
    "        self.answer_given = input(\"\\nPlease enter your answer: \")\n",
    "        if str(self.answer_given).lower() == str(self.correct_answer[0]).lower():\n",
    "            self.match = True\n",
    "            print(\"\\n\\nCongratulations! That was correct!\")\n",
    "        else:\n",
    "            self.match = False\n",
    "            print(\"\\n\\nUnfortunately, that was incorrect. The correct answer was: '\" + str(self.correct_answer[0]) + \"'.\")\n",
    "\n",
    "    def count_money_new_round(self):\n",
    "        \"\"\"Adds prize money from the selected_sum if the provided answer was correct and adds it to the total.\n",
    "        Then, checks whether players want to play another round, and, if so, generates new categories. \"\"\"\n",
    "        \n",
    "        if self.match:\n",
    "            self.prize += float(self.selected_sum)\n",
    "            print(\"\\nYou have won $\" + str(self.selected_sum) + \n",
    "                  \", bringing your total winnings to $\" + str(self.prize) + \".\")\n",
    "        self.another_round = input(\"\\nWould you like to play another round? Type 'yes' or 'no': \\n\")\n",
    "        if self.another_round.lower() == \"yes\":\n",
    "            print(\"\\nHere's another round!\")\n",
    "            self.categories = [category for category in np.random.choice(df.Category.unique(), size = 6)]\n",
    "        else:\n",
    "            print(\"\\nYour total winnings are: $\" + str(self.prize) + \".\") \n",
    "            print(\"\\nThank you for playing Jeopardy, and see you next time!\")    \n",
    "\n",
    "    def play_game(self):\n",
    "        \"\"\"Keeps the game running in a while loop until the player indicates that they want to stop.\"\"\"\n",
    "        \n",
    "        while self.another_round == \"yes\":\n",
    "            self.select_categories()\n",
    "            self.choose_category()\n",
    "            self.choose_question()\n",
    "            self.answer_question_check_match()\n",
    "            self.count_money_new_round()\n",
    "        pass\n",
    "    \n",
    "game = Game()\n",
    "game.play_game()"
   ]
  }
 ],
 "metadata": {
  "kernelspec": {
   "display_name": "Python 3",
   "language": "python",
   "name": "python3"
  },
  "language_info": {
   "codemirror_mode": {
    "name": "ipython",
    "version": 3
   },
   "file_extension": ".py",
   "mimetype": "text/x-python",
   "name": "python",
   "nbconvert_exporter": "python",
   "pygments_lexer": "ipython3",
   "version": "3.7.2"
  }
 },
 "nbformat": 4,
 "nbformat_minor": 5
}
